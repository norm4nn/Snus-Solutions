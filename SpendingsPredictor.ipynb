{
  "cells": [
    {
      "cell_type": "code",
      "execution_count": 2,
      "metadata": {
        "id": "eaVlqjDzThdA"
      },
      "outputs": [],
      "source": [
        "import torch\n",
        "import torch.nn as nn\n",
        "import torch.optim as optim"
      ]
    },
    {
      "cell_type": "code",
      "execution_count": 3,
      "metadata": {
        "colab": {
          "base_uri": "https://localhost:8080/",
          "height": 204
        },
        "id": "l4wwtSUnViQo",
        "outputId": "d3854d07-48c6-4ea4-8665-0d2de1890ed3"
      },
      "outputs": [
        {
          "data": {
            "text/html": [
              "<div>\n",
              "<style scoped>\n",
              "    .dataframe tbody tr th:only-of-type {\n",
              "        vertical-align: middle;\n",
              "    }\n",
              "\n",
              "    .dataframe tbody tr th {\n",
              "        vertical-align: top;\n",
              "    }\n",
              "\n",
              "    .dataframe thead th {\n",
              "        text-align: right;\n",
              "    }\n",
              "</style>\n",
              "<table border=\"1\" class=\"dataframe\">\n",
              "  <thead>\n",
              "    <tr style=\"text-align: right;\">\n",
              "      <th></th>\n",
              "      <th>Gender_x</th>\n",
              "      <th>Age</th>\n",
              "      <th>Profession</th>\n",
              "      <th>Work_Experience</th>\n",
              "      <th>Family_Size</th>\n",
              "      <th>Spending_Score</th>\n",
              "      <th>Cost_of_the_Product</th>\n",
              "      <th>Prior_purchases</th>\n",
              "      <th>Discount_offered</th>\n",
              "    </tr>\n",
              "  </thead>\n",
              "  <tbody>\n",
              "    <tr>\n",
              "      <th>0</th>\n",
              "      <td>Male</td>\n",
              "      <td>22</td>\n",
              "      <td>Healthcare</td>\n",
              "      <td>1.0</td>\n",
              "      <td>4.0</td>\n",
              "      <td>Low</td>\n",
              "      <td>177</td>\n",
              "      <td>3</td>\n",
              "      <td>44</td>\n",
              "    </tr>\n",
              "    <tr>\n",
              "      <th>1</th>\n",
              "      <td>Female</td>\n",
              "      <td>38</td>\n",
              "      <td>Engineer</td>\n",
              "      <td>0.0</td>\n",
              "      <td>3.0</td>\n",
              "      <td>Average</td>\n",
              "      <td>216</td>\n",
              "      <td>2</td>\n",
              "      <td>59</td>\n",
              "    </tr>\n",
              "    <tr>\n",
              "      <th>2</th>\n",
              "      <td>Female</td>\n",
              "      <td>67</td>\n",
              "      <td>Engineer</td>\n",
              "      <td>1.0</td>\n",
              "      <td>1.0</td>\n",
              "      <td>Low</td>\n",
              "      <td>183</td>\n",
              "      <td>4</td>\n",
              "      <td>48</td>\n",
              "    </tr>\n",
              "    <tr>\n",
              "      <th>3</th>\n",
              "      <td>Male</td>\n",
              "      <td>67</td>\n",
              "      <td>Lawyer</td>\n",
              "      <td>0.0</td>\n",
              "      <td>2.0</td>\n",
              "      <td>High</td>\n",
              "      <td>176</td>\n",
              "      <td>4</td>\n",
              "      <td>10</td>\n",
              "    </tr>\n",
              "    <tr>\n",
              "      <th>4</th>\n",
              "      <td>Female</td>\n",
              "      <td>40</td>\n",
              "      <td>Entertainment</td>\n",
              "      <td>0.0</td>\n",
              "      <td>6.0</td>\n",
              "      <td>High</td>\n",
              "      <td>184</td>\n",
              "      <td>3</td>\n",
              "      <td>46</td>\n",
              "    </tr>\n",
              "  </tbody>\n",
              "</table>\n",
              "</div>"
            ],
            "text/plain": [
              "  Gender_x  Age     Profession  Work_Experience  Family_Size Spending_Score  \\\n",
              "0     Male   22     Healthcare              1.0          4.0            Low   \n",
              "1   Female   38       Engineer              0.0          3.0        Average   \n",
              "2   Female   67       Engineer              1.0          1.0            Low   \n",
              "3     Male   67         Lawyer              0.0          2.0           High   \n",
              "4   Female   40  Entertainment              0.0          6.0           High   \n",
              "\n",
              "   Cost_of_the_Product  Prior_purchases  Discount_offered  \n",
              "0                  177                3                44  \n",
              "1                  216                2                59  \n",
              "2                  183                4                48  \n",
              "3                  176                4                10  \n",
              "4                  184                3                46  "
            ]
          },
          "execution_count": 3,
          "metadata": {},
          "output_type": "execute_result"
        }
      ],
      "source": [
        "import numpy as np\n",
        "import pandas as pd\n",
        "\n",
        "data = pd.read_csv(\"customers.csv\")\n",
        "\n",
        "data.head()"
      ]
    },
    {
      "cell_type": "code",
      "execution_count": 4,
      "metadata": {
        "colab": {
          "base_uri": "https://localhost:8080/",
          "height": 204
        },
        "id": "A_ovaXVgX2V1",
        "outputId": "711088bf-ea34-4ef0-ab0a-0834ea02227a"
      },
      "outputs": [
        {
          "data": {
            "text/html": [
              "<div>\n",
              "<style scoped>\n",
              "    .dataframe tbody tr th:only-of-type {\n",
              "        vertical-align: middle;\n",
              "    }\n",
              "\n",
              "    .dataframe tbody tr th {\n",
              "        vertical-align: top;\n",
              "    }\n",
              "\n",
              "    .dataframe thead th {\n",
              "        text-align: right;\n",
              "    }\n",
              "</style>\n",
              "<table border=\"1\" class=\"dataframe\">\n",
              "  <thead>\n",
              "    <tr style=\"text-align: right;\">\n",
              "      <th></th>\n",
              "      <th>Gender_x</th>\n",
              "      <th>Age</th>\n",
              "      <th>Profession</th>\n",
              "      <th>Work_Experience</th>\n",
              "      <th>Family_Size</th>\n",
              "      <th>Spending_Score</th>\n",
              "      <th>Cost_of_the_Product</th>\n",
              "      <th>Prior_purchases</th>\n",
              "      <th>Discount_offered</th>\n",
              "    </tr>\n",
              "  </thead>\n",
              "  <tbody>\n",
              "    <tr>\n",
              "      <th>0</th>\n",
              "      <td>1</td>\n",
              "      <td>22</td>\n",
              "      <td>5</td>\n",
              "      <td>1.0</td>\n",
              "      <td>4.0</td>\n",
              "      <td>2</td>\n",
              "      <td>177</td>\n",
              "      <td>3</td>\n",
              "      <td>44</td>\n",
              "    </tr>\n",
              "    <tr>\n",
              "      <th>1</th>\n",
              "      <td>0</td>\n",
              "      <td>38</td>\n",
              "      <td>2</td>\n",
              "      <td>0.0</td>\n",
              "      <td>3.0</td>\n",
              "      <td>0</td>\n",
              "      <td>216</td>\n",
              "      <td>2</td>\n",
              "      <td>59</td>\n",
              "    </tr>\n",
              "    <tr>\n",
              "      <th>2</th>\n",
              "      <td>0</td>\n",
              "      <td>67</td>\n",
              "      <td>2</td>\n",
              "      <td>1.0</td>\n",
              "      <td>1.0</td>\n",
              "      <td>2</td>\n",
              "      <td>183</td>\n",
              "      <td>4</td>\n",
              "      <td>48</td>\n",
              "    </tr>\n",
              "    <tr>\n",
              "      <th>3</th>\n",
              "      <td>1</td>\n",
              "      <td>67</td>\n",
              "      <td>7</td>\n",
              "      <td>0.0</td>\n",
              "      <td>2.0</td>\n",
              "      <td>1</td>\n",
              "      <td>176</td>\n",
              "      <td>4</td>\n",
              "      <td>10</td>\n",
              "    </tr>\n",
              "    <tr>\n",
              "      <th>4</th>\n",
              "      <td>0</td>\n",
              "      <td>40</td>\n",
              "      <td>3</td>\n",
              "      <td>0.0</td>\n",
              "      <td>6.0</td>\n",
              "      <td>1</td>\n",
              "      <td>184</td>\n",
              "      <td>3</td>\n",
              "      <td>46</td>\n",
              "    </tr>\n",
              "  </tbody>\n",
              "</table>\n",
              "</div>"
            ],
            "text/plain": [
              "   Gender_x  Age  Profession  Work_Experience  Family_Size  Spending_Score  \\\n",
              "0         1   22           5              1.0          4.0               2   \n",
              "1         0   38           2              0.0          3.0               0   \n",
              "2         0   67           2              1.0          1.0               2   \n",
              "3         1   67           7              0.0          2.0               1   \n",
              "4         0   40           3              0.0          6.0               1   \n",
              "\n",
              "   Cost_of_the_Product  Prior_purchases  Discount_offered  \n",
              "0                  177                3                44  \n",
              "1                  216                2                59  \n",
              "2                  183                4                48  \n",
              "3                  176                4                10  \n",
              "4                  184                3                46  "
            ]
          },
          "execution_count": 4,
          "metadata": {},
          "output_type": "execute_result"
        }
      ],
      "source": [
        "# string to int classification\n",
        "from sklearn.preprocessing import LabelEncoder\n",
        "\n",
        "\n",
        "label_encoder = LabelEncoder()\n",
        "string_fields = ['Gender_x', 'Profession', 'Spending_Score']\n",
        "for string_field in string_fields:\n",
        "  data[string_field] = label_encoder.fit_transform(data[string_field])\n",
        "\n",
        "data.head()"
      ]
    },
    {
      "cell_type": "code",
      "execution_count": 5,
      "metadata": {
        "colab": {
          "base_uri": "https://localhost:8080/"
        },
        "id": "ZMAKNfbXZWJn",
        "outputId": "f6472d07-5f2a-44bb-f865-9a843f4435d5"
      },
      "outputs": [
        {
          "name": "stdout",
          "output_type": "stream",
          "text": [
            "      Gender_x       Age  Profession  Work_Experience  Family_Size  \\\n",
            "0          1.0  0.056338       0.625         0.071429     0.444444   \n",
            "1          0.0  0.281690       0.250         0.000000     0.333333   \n",
            "2          0.0  0.690141       0.250         0.071429     0.111111   \n",
            "3          1.0  0.690141       0.875         0.000000     0.222222   \n",
            "4          0.0  0.309859       0.375         0.000000     0.666667   \n",
            "...        ...       ...         ...              ...          ...   \n",
            "7939       1.0  0.323944       0.000         0.000000     0.555556   \n",
            "7940       1.0  0.239437       0.500         0.214286     0.444444   \n",
            "7941       0.0  0.211268       0.625         0.071429     0.111111   \n",
            "7942       0.0  0.126761       0.625         0.071429     0.444444   \n",
            "7943       1.0  0.267606       0.500         0.000000     0.333333   \n",
            "\n",
            "      Spending_Score  Cost_of_the_Product  Prior_purchases  Discount_offered  \n",
            "0                1.0             0.378505            0.125          0.671875  \n",
            "1                0.0             0.560748            0.000          0.906250  \n",
            "2                1.0             0.406542            0.250          0.734375  \n",
            "3                0.5             0.373832            0.250          0.140625  \n",
            "4                0.5             0.411215            0.125          0.703125  \n",
            "...              ...                  ...              ...               ...  \n",
            "7939             0.5             0.490654            0.250          0.031250  \n",
            "7940             1.0             0.817757            0.500          0.031250  \n",
            "7941             1.0             0.172897            0.250          0.062500  \n",
            "7942             1.0             0.747664            0.250          0.078125  \n",
            "7943             0.0             0.602804            0.000          0.015625  \n",
            "\n",
            "[7944 rows x 9 columns]\n"
          ]
        }
      ],
      "source": [
        "# data normalization\n",
        "from sklearn.preprocessing import MinMaxScaler\n",
        "\n",
        "scaler = MinMaxScaler()\n",
        "\n",
        "for field_name in data.columns:\n",
        "  data[field_name] = scaler.fit_transform(data[[field_name]])\n",
        "\n",
        "print(data)\n"
      ]
    },
    {
      "cell_type": "code",
      "execution_count": 6,
      "metadata": {
        "colab": {
          "base_uri": "https://localhost:8080/"
        },
        "id": "xVj3vQ9DaQFB",
        "outputId": "80fce3ab-b8e0-41b0-9ebf-77ee17131e71"
      },
      "outputs": [
        {
          "name": "stdout",
          "output_type": "stream",
          "text": [
            "Training set shape: torch.Size([6355, 7]) torch.Size([6355, 2])\n",
            "Testing set shape: torch.Size([1589, 7]) torch.Size([1589, 2])\n",
            "torch.float32\n",
            "torch.float32\n",
            "torch.float32\n",
            "torch.float32\n"
          ]
        }
      ],
      "source": [
        "# test training splitting\n",
        "from sklearn.model_selection import train_test_split\n",
        "\n",
        "y_cols = ['Cost_of_the_Product', \"Spending_Score\"]\n",
        "\n",
        "X = data.drop(columns=y_cols)\n",
        "y = data[y_cols]\n",
        "\n",
        "\n",
        "X_train, X_test, y_train, y_test = train_test_split(X, y, test_size=0.2, random_state=0)\n",
        "X_train = torch.tensor(X_train.values)\n",
        "X_test = torch.tensor(X_test.values)\n",
        "y_train = torch.tensor(y_train.values)\n",
        "y_test = torch.tensor(y_test.values)\n",
        "\n",
        "X_train = X_train.to(torch.float32)\n",
        "X_test = X_test.to(torch.float32)\n",
        "y_train = y_train.to(torch.float32)\n",
        "y_test = y_test.to(torch.float32)\n",
        "\n",
        "print(\"Training set shape:\", X_train.shape, y_train.shape)\n",
        "print(\"Testing set shape:\", X_test.shape, y_test.shape)\n",
        "print(X_train.dtype)\n",
        "print(X_test.dtype)\n",
        "print(y_train.dtype)\n",
        "print(y_test.dtype)"
      ]
    },
    {
      "cell_type": "code",
      "execution_count": 7,
      "metadata": {
        "id": "9ySRAxnXa4Zl"
      },
      "outputs": [],
      "source": [
        "# NN 1\n",
        "from torch import sigmoid\n",
        "class SpendingsPredictor(nn.Module):\n",
        "    def __init__(self, input_size: int, dropout_p: float = 0.5):\n",
        "        super().__init__()\n",
        "        self.mlp = nn.Sequential(\n",
        "            nn.Linear(input_size, 256),\n",
        "            nn.ReLU(),\n",
        "            nn.Dropout(dropout_p),\n",
        "            nn.Linear(256, 128),\n",
        "            nn.ReLU(),\n",
        "            nn.Dropout(dropout_p),\n",
        "            nn.Linear(128, 2)\n",
        "        )\n",
        "\n",
        "    def forward(self, x):\n",
        "        return self.mlp(x)\n",
        "\n",
        "    def predict_proba(self, x):\n",
        "        return sigmoid(self(x))\n",
        "\n",
        "    def predict(self, x):\n",
        "        y_pred_score = self.predict_proba(x)\n",
        "        return torch.argmax(y_pred_score, dim=1)"
      ]
    },
    {
      "cell_type": "code",
      "execution_count": 8,
      "metadata": {
        "id": "X7-ERjcNDi9G"
      },
      "outputs": [],
      "source": [
        "# NN\n",
        "from torch import sigmoid\n",
        "class SpendingsPredictor2(nn.Module):\n",
        "    def __init__(self, input_size: int):\n",
        "        super().__init__()\n",
        "        self.mlp = nn.Sequential(\n",
        "            nn.Linear(input_size, 512),\n",
        "            nn.ReLU(),\n",
        "            nn.Linear(512, 256),\n",
        "            nn.ReLU(),\n",
        "            nn.Linear(256, 128),\n",
        "            nn.ReLU(),\n",
        "            nn.Linear(128, 2)\n",
        "        )\n",
        "\n",
        "    def forward(self, x):\n",
        "        return self.mlp(x)\n",
        "\n",
        "    def predict_proba(self, x):\n",
        "        return sigmoid(self(x))\n",
        "\n",
        "    def predict(self, x):\n",
        "        y_pred_score = self.predict_proba(x)\n",
        "        return torch.argmax(y_pred_score, dim=1)"
      ]
    },
    {
      "cell_type": "code",
      "execution_count": 9,
      "metadata": {
        "id": "OmhPw0BHgDeW"
      },
      "outputs": [],
      "source": [
        "# training configs\n",
        "\n",
        "from copy import deepcopy\n",
        "\n",
        "from torch.utils.data import DataLoader\n",
        "\n",
        "\n",
        "learning_rate = 1e-3\n",
        "dropout_p = 0.2\n",
        "l2_reg = 1e-8\n",
        "max_epochs = 1000\n",
        "\n",
        "\n",
        "early_stopping_patience = 20"
      ]
    },
    {
      "cell_type": "code",
      "execution_count": 10,
      "metadata": {
        "id": "mtpCsNSYc-5u"
      },
      "outputs": [],
      "source": [
        "model = SpendingsPredictor(\n",
        "    input_size=X_train.shape[1],\n",
        "    dropout_p=dropout_p\n",
        ")\n",
        "optimizer = torch.optim.SGD(\n",
        "    model.parameters(),\n",
        "    lr=learning_rate,\n",
        "    weight_decay=l2_reg\n",
        ")\n",
        "\n",
        "# loss_fn = nn.L1Loss()\n",
        "loss_fn = nn.MSELoss()\n"
      ]
    },
    {
      "cell_type": "code",
      "execution_count": 11,
      "metadata": {
        "id": "9w5vGgESdasj"
      },
      "outputs": [],
      "source": [
        "def train_model(model):\n",
        "    steps_without_improvement = 0\n",
        "\n",
        "    best_val_loss = np.inf\n",
        "    best_model = None\n",
        "\n",
        "    for epoch_num in range(max_epochs):\n",
        "        model.train()\n",
        "\n",
        "        y_pred = model(X_train)\n",
        "        loss = loss_fn(y_pred, y_train)\n",
        "        loss.backward()\n",
        "        optimizer.step()\n",
        "        optimizer.zero_grad()\n",
        "\n",
        "        model.eval()\n",
        "\n",
        "        if loss < best_val_loss:\n",
        "            best_val_loss = loss\n",
        "            best_model = deepcopy(model)\n",
        "            steps_without_improvement = 0\n",
        "        else:\n",
        "            steps_without_improvement += 1\n",
        "        if epoch_num % 50 == 0:\n",
        "            print(f\"Epoch {epoch_num} train loss: {loss.item():.4f}\")\n",
        "\n",
        "        if steps_without_improvement >= early_stopping_patience:\n",
        "            print(f\"Early stopping after {epoch_num} epochs.\")\n",
        "            break\n",
        "\n",
        "    return best_model"
      ]
    },
    {
      "cell_type": "code",
      "execution_count": 12,
      "metadata": {
        "colab": {
          "base_uri": "https://localhost:8080/"
        },
        "id": "Lx0kt6vzDSCA",
        "outputId": "67a33083-babc-4df2-acff-3ce1c1788c43"
      },
      "outputs": [
        {
          "name": "stdout",
          "output_type": "stream",
          "text": [
            "Epoch 0 train loss: 0.4043\n",
            "Epoch 50 train loss: 0.3147\n",
            "Epoch 100 train loss: 0.2497\n",
            "Epoch 150 train loss: 0.2037\n",
            "Epoch 200 train loss: 0.1723\n",
            "Epoch 250 train loss: 0.1524\n",
            "Epoch 300 train loss: 0.1411\n",
            "Epoch 350 train loss: 0.1342\n",
            "Epoch 400 train loss: 0.1315\n",
            "Epoch 450 train loss: 0.1286\n",
            "Epoch 500 train loss: 0.1266\n",
            "Early stopping after 540 epochs.\n"
          ]
        },
        {
          "data": {
            "text/plain": [
              "SpendingsPredictor(\n",
              "  (mlp): Sequential(\n",
              "    (0): Linear(in_features=7, out_features=256, bias=True)\n",
              "    (1): ReLU()\n",
              "    (2): Dropout(p=0.2, inplace=False)\n",
              "    (3): Linear(in_features=256, out_features=128, bias=True)\n",
              "    (4): ReLU()\n",
              "    (5): Dropout(p=0.2, inplace=False)\n",
              "    (6): Linear(in_features=128, out_features=2, bias=True)\n",
              "  )\n",
              ")"
            ]
          },
          "execution_count": 12,
          "metadata": {},
          "output_type": "execute_result"
        }
      ],
      "source": [
        "\n",
        "train_model(model)"
      ]
    },
    {
      "cell_type": "code",
      "execution_count": 13,
      "metadata": {
        "id": "cCMAKFFnFCz4"
      },
      "outputs": [],
      "source": [
        "model2 = SpendingsPredictor2(\n",
        "    input_size=X_train.shape[1],\n",
        ")\n",
        "optimizer = torch.optim.SGD(\n",
        "    model2.parameters(),\n",
        "    lr=learning_rate,\n",
        "    weight_decay=l2_reg\n",
        ")"
      ]
    },
    {
      "cell_type": "code",
      "execution_count": 15,
      "metadata": {
        "colab": {
          "base_uri": "https://localhost:8080/",
          "height": 911
        },
        "id": "oD1hyJhgDfr9",
        "outputId": "960f8332-5f14-42f3-ea8c-0e861a833ea4"
      },
      "outputs": [
        {
          "name": "stdout",
          "output_type": "stream",
          "text": [
            "Epoch 0 train loss: 0.1179\n",
            "Epoch 50 train loss: 0.1177\n",
            "Epoch 100 train loss: 0.1175\n",
            "Epoch 150 train loss: 0.1174\n",
            "Epoch 200 train loss: 0.1173\n",
            "Epoch 250 train loss: 0.1171\n",
            "Epoch 300 train loss: 0.1170\n",
            "Epoch 350 train loss: 0.1169\n",
            "Epoch 400 train loss: 0.1168\n",
            "Epoch 450 train loss: 0.1167\n",
            "Epoch 500 train loss: 0.1165\n",
            "Epoch 550 train loss: 0.1164\n",
            "Epoch 600 train loss: 0.1163\n",
            "Epoch 650 train loss: 0.1162\n",
            "Epoch 700 train loss: 0.1161\n",
            "Epoch 750 train loss: 0.1160\n",
            "Epoch 800 train loss: 0.1159\n",
            "Epoch 850 train loss: 0.1157\n",
            "Epoch 900 train loss: 0.1156\n",
            "Epoch 950 train loss: 0.1155\n"
          ]
        }
      ],
      "source": [
        "best = train_model(model2)"
      ]
    },
    {
      "cell_type": "code",
      "execution_count": 33,
      "metadata": {},
      "outputs": [],
      "source": [
        "def predict_customer(gender, age,  profession, work_exp, family, purchases, discount): \n",
        "    gender_dict = {\"Male\": 0, \"Female\": 1}\n",
        "    profession_dict = { v: i for i, v in enumerate(['Healthcare', 'Engineer', 'Lawyer', 'Entertainment', 'Artist','Executive', 'Doctor', 'Homemaker', 'Marketing'])}   \n",
        "    customer = torch.tensor([gender_dict[gender], age, profession_dict[profession], work_exp, family, purchases, discount], dtype=torch.float32)  # Ensure all elements are floats\n",
        "    customer = customer.unsqueeze(0)  # Add a batch dimension\n",
        "\n",
        "    scaler = MinMaxScaler()\n",
        "    customer_scaled = scaler.fit_transform(customer.numpy())  # Convert tensor to numpy array, scale, and then convert back to tensor\n",
        "\n",
        "    # Assuming `best` is your model instance\n",
        "    y_pred = best(torch.tensor(customer_scaled, dtype=torch.float32))\n",
        "    return y_pred\n",
        "\n"
      ]
    }
  ],
  "metadata": {
    "colab": {
      "provenance": []
    },
    "kernelspec": {
      "display_name": "Python 3",
      "name": "python3"
    },
    "language_info": {
      "codemirror_mode": {
        "name": "ipython",
        "version": 3
      },
      "file_extension": ".py",
      "mimetype": "text/x-python",
      "name": "python",
      "nbconvert_exporter": "python",
      "pygments_lexer": "ipython3",
      "version": "3.11.5"
    }
  },
  "nbformat": 4,
  "nbformat_minor": 0
}
